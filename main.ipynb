{
 "cells": [
  {
   "cell_type": "markdown",
   "metadata": {},
   "source": [
    "based on:\n",
    "\n",
    "MetaMath:\n",
    "Bootstrap Your Own Mathematical Questions for Large Language Models\n",
    "https://meta-math.github.io/\n",
    "\n",
    "specifically this section:    \n",
    "https://x.com/abacaj/status/1705695882325180885?s=20"
   ]
  },
  {
   "cell_type": "code",
   "execution_count": null,
   "metadata": {},
   "outputs": [],
   "source": [
    "# 1. --- load Llama2 7B from huggingface\n",
    "\n"
   ]
  },
  {
   "cell_type": "code",
   "execution_count": null,
   "metadata": {},
   "outputs": [],
   "source": [
    "# 2. --- load an instructional LLM dataset of form [X,Y]"
   ]
  },
  {
   "cell_type": "code",
   "execution_count": 1,
   "metadata": {},
   "outputs": [
    {
     "ename": "SyntaxError",
     "evalue": "unexpected EOF while parsing (1820340722.py, line 6)",
     "output_type": "error",
     "traceback": [
      "\u001b[0;36m  Cell \u001b[0;32mIn[1], line 6\u001b[0;36m\u001b[0m\n\u001b[0;31m    for (x,y) in dataset:\u001b[0m\n\u001b[0m                         ^\u001b[0m\n\u001b[0;31mSyntaxError\u001b[0m\u001b[0;31m:\u001b[0m unexpected EOF while parsing\n"
     ]
    }
   ],
   "source": [
    "# 3. --- training loop\n",
    "\n",
    "\n",
    "\n",
    "\n",
    "for (x,y) in dataset:\n",
    "\n",
    "\n",
    "    # add N soft prompt tokens between X and Y\n",
    "\n",
    "    # tune added prompt tokens to minimize the perplexity of Y and itself (this both avoid just copying Y into itself to make Y easy to predict, and makes this CoT easy to learn, per the paper above^)\n",
    "\n",
    "    # train Llama on X + CoT + Y  @WARN this either requires: casting CoT from soft prompt into hard prompt (harder to do that I thought) or, training llama2 to take in the soft prompt embedding. This probably hurts performance? idk, it does get low perplexity given that prompt...\n"
   ]
  },
  {
   "cell_type": "code",
   "execution_count": null,
   "metadata": {},
   "outputs": [],
   "source": []
  }
 ],
 "metadata": {
  "kernelspec": {
   "display_name": "Python (minerl)",
   "language": "python",
   "name": "minerl"
  },
  "orig_nbformat": 4
 },
 "nbformat": 4,
 "nbformat_minor": 2
}
